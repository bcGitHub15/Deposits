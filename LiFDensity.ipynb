{
 "cells": [
  {
   "cell_type": "markdown",
   "id": "f5307051",
   "metadata": {},
   "source": [
    "LiF Coating Density\n",
    "===================\n",
    "\n",
    "Want to know how to calculate the 6Li content of an evaporated coating of LiF.\n",
    "\n",
    "Regular LiF has a density of $2.635\\,g/cm^{3}$ "
   ]
  },
  {
   "cell_type": "code",
   "execution_count": 9,
   "id": "8830100a",
   "metadata": {},
   "outputs": [],
   "source": [
    "rho_raw = 2.635"
   ]
  },
  {
   "cell_type": "markdown",
   "id": "d7fdbbb0",
   "metadata": {},
   "source": [
    "Natural LiF has mol. wt."
   ]
  },
  {
   "cell_type": "code",
   "execution_count": 10,
   "id": "d88a8950",
   "metadata": {},
   "outputs": [],
   "source": [
    "mol_wt_raw = 25.939"
   ]
  },
  {
   "cell_type": "markdown",
   "id": "6a8c3472",
   "metadata": {},
   "source": [
    "in g/mol. \n",
    "\n",
    "This gives us a number density of $\\dfrac{g/cm^{3}}{g/mol}$\n"
   ]
  },
  {
   "cell_type": "code",
   "execution_count": 11,
   "id": "0f6fea7d",
   "metadata": {},
   "outputs": [
    {
     "name": "stdout",
     "output_type": "stream",
     "text": [
      "0.10158448668028836\n"
     ]
    }
   ],
   "source": [
    "num_den = rho_raw / mol_wt_raw\n",
    "print(num_den)"
   ]
  },
  {
   "cell_type": "markdown",
   "id": "3d20d9ab",
   "metadata": {},
   "source": [
    "in $mol/cm^{3}$. \n",
    "\n",
    "This is then a fixed quantity regardless of the isotopic composition. We can then find the number of moles/nm of thickness given a $1\\,cm^{2}$ area, which corresponds to $10^{-7}\\,cm^{2}/nm$. "
   ]
  },
  {
   "cell_type": "code",
   "execution_count": 14,
   "id": "9aba5ecc",
   "metadata": {},
   "outputs": [
    {
     "name": "stdout",
     "output_type": "stream",
     "text": [
      "1.0158448668028836e-08\n"
     ]
    }
   ],
   "source": [
    "n_density = num_den * 1e-7\n",
    "print(n_density)"
   ]
  },
  {
   "cell_type": "markdown",
   "id": "974d4221",
   "metadata": {},
   "source": [
    "So that is the number of moles per nm and then we need to convert that to mass/nm of Li6. First we note that only 95% of the Li in the enriched material are 6Li so the corrected number density is"
   ]
  },
  {
   "cell_type": "code",
   "execution_count": 15,
   "id": "273d0152",
   "metadata": {},
   "outputs": [
    {
     "name": "stdout",
     "output_type": "stream",
     "text": [
      "9.650526234627393e-09\n"
     ]
    }
   ],
   "source": [
    "n_density6 = 0.95  * n_density\n",
    "print(n_density6)"
   ]
  },
  {
   "cell_type": "markdown",
   "id": "ea763a6e",
   "metadata": {},
   "source": [
    "Then that weighs 6 g/mole so I get "
   ]
  },
  {
   "cell_type": "code",
   "execution_count": 16,
   "id": "469de0c7",
   "metadata": {},
   "outputs": [
    {
     "name": "stdout",
     "output_type": "stream",
     "text": [
      "5.790315740776436e-08\n"
     ]
    }
   ],
   "source": [
    "lin_density6 = 6 * n_density6\n",
    "print(lin_density6)"
   ]
  },
  {
   "cell_type": "markdown",
   "id": "8cdd7d4b",
   "metadata": {},
   "source": [
    "and that is $g/nm/cm^{2}$\n",
    "\n",
    "So, to get $10\\,\\mu{}g/cm^{2}$ will take"
   ]
  },
  {
   "cell_type": "code",
   "execution_count": 18,
   "id": "528d5ede",
   "metadata": {},
   "outputs": [
    {
     "name": "stdout",
     "output_type": "stream",
     "text": [
      "172.7021538666401\n"
     ]
    }
   ],
   "source": [
    "thick_10 = 1e-5 / lin_density6\n",
    "print(thick_10)"
   ]
  },
  {
   "cell_type": "markdown",
   "id": "86682e59",
   "metadata": {},
   "source": [
    "That seems thick, 172 nm for $10\\,ug/cm^{2}$. Well, that makes the $325\\,nm$ thickness on the big quote about $20\\,\\mu{}g/cm^{2}$ and then the (possibly hard to do) $1300\\,nm$ is bout $75\\,\\mu{}g/cm^{}$."
   ]
  },
  {
   "cell_type": "code",
   "execution_count": null,
   "id": "8d9a0f8a",
   "metadata": {},
   "outputs": [],
   "source": []
  }
 ],
 "metadata": {
  "kernelspec": {
   "display_name": "Python 3",
   "language": "python",
   "name": "python3"
  },
  "language_info": {
   "codemirror_mode": {
    "name": "ipython",
    "version": 3
   },
   "file_extension": ".py",
   "mimetype": "text/x-python",
   "name": "python",
   "nbconvert_exporter": "python",
   "pygments_lexer": "ipython3",
   "version": "3.7.10"
  }
 },
 "nbformat": 4,
 "nbformat_minor": 5
}
